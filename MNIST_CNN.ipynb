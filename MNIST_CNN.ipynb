{
  "nbformat": 4,
  "nbformat_minor": 0,
  "metadata": {
    "colab": {
      "provenance": [],
      "authorship_tag": "ABX9TyNnBx6qlvrNdDSc66mT3kYB"
    },
    "kernelspec": {
      "name": "python3",
      "display_name": "Python 3"
    },
    "language_info": {
      "name": "python"
    }
  },
  "cells": [
    {
      "cell_type": "code",
      "execution_count": 46,
      "metadata": {
        "id": "iUq-GgVN7kM9"
      },
      "outputs": [],
      "source": [
        "import torch\n",
        "from torch.autograd import Variable\n",
        "from torchvision import transforms, datasets\n",
        "\n",
        "import matplotlib.pyplot as plt\n"
      ]
    },
    {
      "cell_type": "code",
      "source": [
        "class Net(torch.nn.Module):\n",
        "    def __init__(self):\n",
        "        super(Net,self).__init__()\n",
        "        self.cnn1 = torch.nn.Conv2d(1, 20, 5, stride=1)\n",
        "        self.pool2 = torch.nn.MaxPool2d(2, stride=2)\n",
        "        self.fc3 = torch.nn.Linear(2880, 100)\n",
        "        self.fc4 = torch.nn.Linear(100, 10)\n",
        "\n",
        "    def forward(self, x):\n",
        "        x = self.cnn1(x)\n",
        "        x = self.pool2(x)\n",
        "        x = x.view(x.shape[0], -1)\n",
        "        x = torch.nn.functional.relu(self.fc3(x))\n",
        "        x = torch.nn.functional.relu(self.fc4(x))\n",
        "\n",
        "        return torch.nn.functional.log_softmax(x, dim=1)"
      ],
      "metadata": {
        "id": "16o7bUsoBpVN"
      },
      "execution_count": 47,
      "outputs": []
    },
    {
      "cell_type": "code",
      "source": [
        "batch_size=200\n",
        "learning_rate=0.01\n",
        "epochs=10\n",
        "log_interval=100"
      ],
      "metadata": {
        "id": "Y-1PKp5hLO-q"
      },
      "execution_count": 48,
      "outputs": []
    },
    {
      "cell_type": "code",
      "source": [
        "train_loader = torch.utils.data.DataLoader(\n",
        "                datasets.MNIST('../data', train=True, download = True,\n",
        "                               transform= transforms.Compose([\n",
        "                                  transforms.ToTensor(),\n",
        "                                  transforms.Normalize((0.1307,), (0.3081,))])),\n",
        "                                  batch_size = batch_size, shuffle=True )\n",
        "\n",
        "test_loader = torch.utils.data.DataLoader(\n",
        "                datasets.MNIST('../data', train=False, download = True,\n",
        "                               transform= transforms.Compose([\n",
        "                                  transforms.ToTensor(),\n",
        "                                  transforms.Normalize((0.1307,), (0.3081,))])),\n",
        "                                  batch_size = batch_size, shuffle=True)\n",
        "\n"
      ],
      "metadata": {
        "id": "V3dXme71Lb7n"
      },
      "execution_count": 49,
      "outputs": []
    },
    {
      "cell_type": "code",
      "source": [
        "net = Net()\n",
        "print(net)"
      ],
      "metadata": {
        "colab": {
          "base_uri": "https://localhost:8080/"
        },
        "id": "3vnN4rFEMctW",
        "outputId": "1ff06829-bc3f-4621-d603-a2514f5bc2c9"
      },
      "execution_count": 50,
      "outputs": [
        {
          "output_type": "stream",
          "name": "stdout",
          "text": [
            "Net(\n",
            "  (cnn1): Conv2d(1, 20, kernel_size=(5, 5), stride=(1, 1))\n",
            "  (pool2): MaxPool2d(kernel_size=2, stride=2, padding=0, dilation=1, ceil_mode=False)\n",
            "  (fc3): Linear(in_features=2880, out_features=100, bias=True)\n",
            "  (fc4): Linear(in_features=100, out_features=10, bias=True)\n",
            ")\n"
          ]
        }
      ]
    },
    {
      "cell_type": "code",
      "source": [
        "optimizer = torch.optim.SGD(net.parameters(), lr = learning_rate, momentum = 0.9)\n",
        "criterion = torch.nn.NLLLoss()"
      ],
      "metadata": {
        "id": "6_vIO1pAN1ZO"
      },
      "execution_count": 51,
      "outputs": []
    },
    {
      "cell_type": "code",
      "source": [
        "losses = []\n",
        "for epoch in range(epochs):\n",
        "\n",
        "    total_loss = 0.0\n",
        "\n",
        "\n",
        "    for step, (data, target) in enumerate(train_loader):\n",
        "        data, target = Variable(data), Variable(target)\n",
        "\n",
        "        net.train()\n",
        "        optimizer.zero_grad()\n",
        "        net_out = net(data)\n",
        "        loss = criterion(net_out, target)\n",
        "        loss.backward()\n",
        "        optimizer.step()\n",
        "        total_loss += loss.data\n",
        "        losses.append(loss.detach().numpy())\n",
        "\n",
        "        if step and step % log_interval == 0:\n",
        "          print(f'Train Epoch: {epoch+1} | Loss: {loss.data} | Avg. loss: {total_loss / len(train_loader.dataset)}')"
      ],
      "metadata": {
        "colab": {
          "base_uri": "https://localhost:8080/"
        },
        "id": "7cUaOrqQOJTS",
        "outputId": "9f915679-3584-4fd5-ed93-963917acfde5"
      },
      "execution_count": 52,
      "outputs": [
        {
          "output_type": "stream",
          "name": "stdout",
          "text": [
            "Train Epoch: 1 | Loss: 0.7065979242324829 | Avg. loss: 0.0018480410799384117\n",
            "Train Epoch: 1 | Loss: 0.8724032044410706 | Avg. loss: 0.0032683550380170345\n",
            "Train Epoch: 2 | Loss: 0.7367336750030518 | Avg. loss: 0.0010163085535168648\n",
            "Train Epoch: 2 | Loss: 0.5595009326934814 | Avg. loss: 0.001979114254936576\n",
            "Train Epoch: 3 | Loss: 0.1387152075767517 | Avg. loss: 0.000675704563036561\n",
            "Train Epoch: 3 | Loss: 0.09531861543655396 | Avg. loss: 0.0008735238225199282\n",
            "Train Epoch: 4 | Loss: 0.03194373846054077 | Avg. loss: 0.00012589262041728944\n",
            "Train Epoch: 4 | Loss: 0.10108279436826706 | Avg. loss: 0.0002413194306427613\n",
            "Train Epoch: 5 | Loss: 0.030455822125077248 | Avg. loss: 8.939902181737125e-05\n",
            "Train Epoch: 5 | Loss: 0.018429948017001152 | Avg. loss: 0.00017295904399361461\n",
            "Train Epoch: 6 | Loss: 0.021852606907486916 | Avg. loss: 6.783705612178892e-05\n",
            "Train Epoch: 6 | Loss: 0.05260612443089485 | Avg. loss: 0.00013765248877462\n",
            "Train Epoch: 7 | Loss: 0.014880641363561153 | Avg. loss: 5.305563536239788e-05\n",
            "Train Epoch: 7 | Loss: 0.06649350374937057 | Avg. loss: 0.00010629641474224627\n",
            "Train Epoch: 8 | Loss: 0.0506444089114666 | Avg. loss: 4.5314827730180696e-05\n",
            "Train Epoch: 8 | Loss: 0.03309694677591324 | Avg. loss: 8.811643783701584e-05\n",
            "Train Epoch: 9 | Loss: 0.022086167708039284 | Avg. loss: 3.435353210079484e-05\n",
            "Train Epoch: 9 | Loss: 0.02037241868674755 | Avg. loss: 6.714097980875522e-05\n",
            "Train Epoch: 10 | Loss: 0.015872236341238022 | Avg. loss: 3.08709786622785e-05\n",
            "Train Epoch: 10 | Loss: 0.035208672285079956 | Avg. loss: 5.890632382943295e-05\n"
          ]
        }
      ]
    },
    {
      "cell_type": "code",
      "source": [
        "plt.plot(losses)\n",
        "plt.show()"
      ],
      "metadata": {
        "colab": {
          "base_uri": "https://localhost:8080/",
          "height": 430
        },
        "id": "2KwDiCPqSXqC",
        "outputId": "55ccad6b-f734-42cb-cf2d-c547dc105582"
      },
      "execution_count": 53,
      "outputs": [
        {
          "output_type": "display_data",
          "data": {
            "text/plain": [
              "<Figure size 640x480 with 1 Axes>"
            ],
            "image/png": "[encoded data removed]"
          },
          "metadata": {}
        }
      ]
    },
    {
      "cell_type": "code",
      "source": [
        "test_loss = 0.0\n",
        "correct = 0.0\n",
        "for data, target in test_loader:\n",
        "    net_out = net(data)\n",
        "    test_loss += criterion(net_out, target).data\n",
        "    pred = net_out.data.max(1)[1]  # get the index of the max log-probability\n",
        "    correct += pred.eq(target.data).sum()\n",
        "\n",
        "test_loss /= len(test_loader.dataset)\n",
        "print(f'Test: Average loss: {test_loss} | Accuracy: {correct / len(test_loader.dataset)}')"
      ],
      "metadata": {
        "colab": {
          "base_uri": "https://localhost:8080/"
        },
        "id": "GWnJV0FWQFlP",
        "outputId": "caef5b64-1227-43c9-a41f-0b95a10684ce"
      },
      "execution_count": 54,
      "outputs": [
        {
          "output_type": "stream",
          "name": "stdout",
          "text": [
            "Test: Average loss: 0.00021427306637633592 | Accuracy: 0.9853000044822693\n"
          ]
        }
      ]
    }
  ]
}