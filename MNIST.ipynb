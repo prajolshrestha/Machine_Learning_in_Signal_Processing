{
  "nbformat": 4,
  "nbformat_minor": 0,
  "metadata": {
    "colab": {
      "provenance": [],
      "authorship_tag": "ABX9TyN3zLFz6BIDhZ/SgGb5tvMg"
    },
    "kernelspec": {
      "name": "python3",
      "display_name": "Python 3"
    },
    "language_info": {
      "name": "python"
    }
  },
  "cells": [
    {
      "cell_type": "code",
      "execution_count": 5,
      "metadata": {
        "id": "7DzkLrpLw-gh"
      },
      "outputs": [],
      "source": [
        "import torch\n",
        "import torch.nn as nn\n",
        "from torch.autograd import Variable\n",
        "import torch.optim\n",
        "import torch.utils.data as Data\n",
        "\n",
        "from torchvision import datasets, transforms\n",
        "\n",
        "import matplotlib.pyplot as plt\n"
      ]
    },
    {
      "cell_type": "code",
      "source": [
        "class Net(nn.Module):\n",
        "    def __init__(self):\n",
        "        super(Net, self).__init__()\n",
        "        self.fc1 = nn.Linear(28*28, 200)\n",
        "        self.fc2 = nn.Linear(200, 200)\n",
        "        self.fc3 = nn.Linear(200,10)\n",
        "\n",
        "    def forward(self, x):\n",
        "        x = torch.nn.functional.relu(self.fc1(x))\n",
        "        x = torch.nn.functional.relu(self.fc2(x))\n",
        "        x = self.fc3(x)\n",
        "        return torch.nn.functional.log_softmax(x, dim=1)\n"
      ],
      "metadata": {
        "id": "IKGVGlIWyNIA"
      },
      "execution_count": 9,
      "outputs": []
    },
    {
      "cell_type": "code",
      "source": [
        "# set hyperparameters\n",
        "batch_size = 200\n",
        "learning_rate = 0.01\n",
        "epochs = 10\n",
        "log_interval = 100"
      ],
      "metadata": {
        "id": "8EQktUJhzFXp"
      },
      "execution_count": 4,
      "outputs": []
    },
    {
      "cell_type": "code",
      "source": [
        "# Load data\n",
        "\n",
        "train_loader = torch.utils.data.DataLoader(\n",
        "              datasets.MNIST('../data', train=True, download=True, transform= transforms.Compose(\n",
        "                  [transforms.ToTensor(),\n",
        "                   transforms.Normalize((0.1307,), (0.3081,))]\n",
        "              )),\n",
        "              batch_size = batch_size, shuffle=True)\n",
        "\n",
        "test_loader = torch.utils.data.DataLoader(\n",
        "    datasets.MNIST('../data', train=False, download = True, transform= transforms.Compose([\n",
        "        transforms.ToTensor(),\n",
        "        transforms.Normalize((0.1207,), (0.3081,))\n",
        "    ])),\n",
        "    batch_size = batch_size, shuffle=True)"
      ],
      "metadata": {
        "colab": {
          "base_uri": "https://localhost:8080/"
        },
        "id": "rJQ2glJFzOWF",
        "outputId": "84aed55a-18c2-45a7-b729-a35524cdf36a"
      },
      "execution_count": 7,
      "outputs": [
        {
          "output_type": "stream",
          "name": "stdout",
          "text": [
            "Downloading http://yann.lecun.com/exdb/mnist/train-images-idx3-ubyte.gz\n",
            "Downloading http://yann.lecun.com/exdb/mnist/train-images-idx3-ubyte.gz to ../data/MNIST/raw/train-images-idx3-ubyte.gz\n"
          ]
        },
        {
          "output_type": "stream",
          "name": "stderr",
          "text": [
            "100%|██████████| 9912422/9912422 [00:00<00:00, 104482062.43it/s]\n"
          ]
        },
        {
          "output_type": "stream",
          "name": "stdout",
          "text": [
            "Extracting ../data/MNIST/raw/train-images-idx3-ubyte.gz to ../data/MNIST/raw\n",
            "\n",
            "Downloading http://yann.lecun.com/exdb/mnist/train-labels-idx1-ubyte.gz\n",
            "Downloading http://yann.lecun.com/exdb/mnist/train-labels-idx1-ubyte.gz to ../data/MNIST/raw/train-labels-idx1-ubyte.gz\n"
          ]
        },
        {
          "output_type": "stream",
          "name": "stderr",
          "text": [
            "100%|██████████| 28881/28881 [00:00<00:00, 18556325.65it/s]\n"
          ]
        },
        {
          "output_type": "stream",
          "name": "stdout",
          "text": [
            "Extracting ../data/MNIST/raw/train-labels-idx1-ubyte.gz to ../data/MNIST/raw\n",
            "\n",
            "Downloading http://yann.lecun.com/exdb/mnist/t10k-images-idx3-ubyte.gz\n",
            "Downloading http://yann.lecun.com/exdb/mnist/t10k-images-idx3-ubyte.gz to ../data/MNIST/raw/t10k-images-idx3-ubyte.gz\n"
          ]
        },
        {
          "output_type": "stream",
          "name": "stderr",
          "text": [
            "100%|██████████| 1648877/1648877 [00:00<00:00, 24683920.21it/s]\n"
          ]
        },
        {
          "output_type": "stream",
          "name": "stdout",
          "text": [
            "Extracting ../data/MNIST/raw/t10k-images-idx3-ubyte.gz to ../data/MNIST/raw\n",
            "\n",
            "Downloading http://yann.lecun.com/exdb/mnist/t10k-labels-idx1-ubyte.gz\n",
            "Downloading http://yann.lecun.com/exdb/mnist/t10k-labels-idx1-ubyte.gz to ../data/MNIST/raw/t10k-labels-idx1-ubyte.gz\n"
          ]
        },
        {
          "output_type": "stream",
          "name": "stderr",
          "text": [
            "100%|██████████| 4542/4542 [00:00<00:00, 7927810.56it/s]\n"
          ]
        },
        {
          "output_type": "stream",
          "name": "stdout",
          "text": [
            "Extracting ../data/MNIST/raw/t10k-labels-idx1-ubyte.gz to ../data/MNIST/raw\n",
            "\n"
          ]
        }
      ]
    },
    {
      "cell_type": "code",
      "source": [
        "net = Net()\n",
        "print(net)"
      ],
      "metadata": {
        "colab": {
          "base_uri": "https://localhost:8080/"
        },
        "id": "G296R9li2br6",
        "outputId": "b33a3b04-2601-4107-c968-cbe011c8fcf6"
      },
      "execution_count": 11,
      "outputs": [
        {
          "output_type": "stream",
          "name": "stdout",
          "text": [
            "Net(\n",
            "  (fc1): Linear(in_features=784, out_features=200, bias=True)\n",
            "  (fc2): Linear(in_features=200, out_features=200, bias=True)\n",
            "  (fc3): Linear(in_features=200, out_features=10, bias=True)\n",
            ")\n"
          ]
        }
      ]
    },
    {
      "cell_type": "code",
      "source": [
        "# Setup loss function and optimizer\n",
        "\n",
        "optimizer = torch.optim.SGD(net.parameters(), lr= learning_rate, momentum=0.9)\n",
        "criterion = nn.NLLLoss()"
      ],
      "metadata": {
        "id": "6dOA00im2l-Y"
      },
      "execution_count": 12,
      "outputs": []
    },
    {
      "cell_type": "code",
      "source": [
        "# Training\n",
        "\n",
        "for epoch in range(epochs):\n",
        "    total_loss = 0.0\n",
        "    for batch_idx, (data, target) in enumerate(train_loader):\n",
        "        #data, target = Variable(data), Variable(target)\n",
        "\n",
        "        data = data.view(-1, 28*28) # resize from (batchsize, 1, 28,28)\n",
        "\n",
        "        optimizer.zero_grad()\n",
        "        net_out = net(data)\n",
        "        loss = criterion(net_out, target)\n",
        "        total_loss += loss.data\n",
        "        loss.backward()\n",
        "        optimizer.step()\n",
        "\n",
        "        if batch_idx and batch_idx % log_interval == 0:\n",
        "            print(f'Train Epoch: {epoch+1} | Loss: {loss.data} | Average Training Loss: {total_loss/len(train_loader.dataset)}')\n",
        "\n"
      ],
      "metadata": {
        "colab": {
          "base_uri": "https://localhost:8080/"
        },
        "id": "suS0Zq7N28IU",
        "outputId": "5c35bed6-7e71-4a12-d417-9110a4a19a99"
      },
      "execution_count": 21,
      "outputs": [
        {
          "output_type": "stream",
          "name": "stdout",
          "text": [
            "Train Epoch: 1 | Loss: 0.050167761743068695 | Average Training Loss: 4.523328607319854e-05\n",
            "Train Epoch: 1 | Loss: 0.06190430745482445 | Average Training Loss: 9.795054938877001e-05\n",
            "Train Epoch: 2 | Loss: 0.027787471190094948 | Average Training Loss: 4.414796785567887e-05\n",
            "Train Epoch: 2 | Loss: 0.00941787101328373 | Average Training Loss: 8.74034158186987e-05\n",
            "Train Epoch: 3 | Loss: 0.034844495356082916 | Average Training Loss: 3.403639857424423e-05\n",
            "Train Epoch: 3 | Loss: 0.02588096633553505 | Average Training Loss: 7.244427251862362e-05\n",
            "Train Epoch: 4 | Loss: 0.013644549995660782 | Average Training Loss: 2.925907028838992e-05\n",
            "Train Epoch: 4 | Loss: 0.02555500715970993 | Average Training Loss: 5.628174767480232e-05\n",
            "Train Epoch: 5 | Loss: 0.01905379258096218 | Average Training Loss: 2.2748397896066308e-05\n",
            "Train Epoch: 5 | Loss: 0.02495364099740982 | Average Training Loss: 5.171689917915501e-05\n",
            "Train Epoch: 6 | Loss: 0.010910824872553349 | Average Training Loss: 2.0712863260996528e-05\n",
            "Train Epoch: 6 | Loss: 0.017023760825395584 | Average Training Loss: 4.600316606229171e-05\n",
            "Train Epoch: 7 | Loss: 0.009739710949361324 | Average Training Loss: 1.7888505681185052e-05\n",
            "Train Epoch: 7 | Loss: 0.006273878272622824 | Average Training Loss: 3.798858233494684e-05\n",
            "Train Epoch: 8 | Loss: 0.008736269548535347 | Average Training Loss: 1.4946312148822471e-05\n",
            "Train Epoch: 8 | Loss: 0.005144424270838499 | Average Training Loss: 2.9975197321618907e-05\n",
            "Train Epoch: 9 | Loss: 0.007307595573365688 | Average Training Loss: 1.2718080142803956e-05\n",
            "Train Epoch: 9 | Loss: 0.0075739650055766106 | Average Training Loss: 2.6207269911537878e-05\n",
            "Train Epoch: 10 | Loss: 0.00799788348376751 | Average Training Loss: 1.1365082173142582e-05\n",
            "Train Epoch: 10 | Loss: 0.0072938608936965466 | Average Training Loss: 2.3549435354652815e-05\n"
          ]
        }
      ]
    },
    {
      "cell_type": "code",
      "source": [
        "# Testing\n",
        "\n",
        "test_loss = 0.0\n",
        "correct = 0.0\n",
        "\n",
        "for data, target in test_loader:\n",
        "    data = data.view(-1, 28*28)\n",
        "\n",
        "    net_out = net(data)\n",
        "    l = criterion(net_out, target)\n",
        "    test_loss += l.data\n",
        "\n",
        "    pred = net_out.data.max(1)[1] # get the index of maximum log- probability\n",
        "\n",
        "    correct += pred.eq(target.data).sum()\n",
        "\n",
        "test_loss /= len(test_loader.dataset)\n",
        "\n",
        "print(f'Test: Average loss: {test_loss} | Accuracy: {correct / len(test_loader.dataset)}')\n"
      ],
      "metadata": {
        "colab": {
          "base_uri": "https://localhost:8080/"
        },
        "id": "c1jcv1_i5uW8",
        "outputId": "cd2e2504-6bf5-43da-970c-52bd5eb8bda7"
      },
      "execution_count": 24,
      "outputs": [
        {
          "output_type": "stream",
          "name": "stdout",
          "text": [
            "Test: Average loss: 0.00034587705158628523 | Accuracy: 0.9801999926567078\n"
          ]
        }
      ]
    },
    {
      "cell_type": "markdown",
      "source": [
        "# Save Model"
      ],
      "metadata": {
        "id": "N3DQs4sx7qec"
      }
    },
    {
      "cell_type": "code",
      "source": [
        "for param_tensor in net.state_dict():\n",
        "    print(param_tensor, net.state_dict()[param_tensor].size())\n",
        "\n",
        "for var_name in optimizer.state_dict():\n",
        "    print(var_name, optimizer.state_dict()[var_name])\n"
      ],
      "metadata": {
        "colab": {
          "base_uri": "https://localhost:8080/"
        },
        "id": "5L1x6X5X7s-Q",
        "outputId": "2e08bdea-8ae7-4503-bcb8-5e414d0d3d4b"
      },
      "execution_count": 15,
      "outputs": [
        {
          "output_type": "stream",
          "name": "stdout",
          "text": [
            "fc1.weight torch.Size([200, 784])\n",
            "fc1.bias torch.Size([200])\n",
            "fc2.weight torch.Size([200, 200])\n",
            "fc2.bias torch.Size([200])\n",
            "fc3.weight torch.Size([10, 200])\n",
            "fc3.bias torch.Size([10])\n",
            "state {0: {'momentum_buffer': tensor([[ 0.0015,  0.0015,  0.0015,  ...,  0.0015,  0.0015,  0.0015],\n",
            "        [ 0.0001,  0.0001,  0.0001,  ...,  0.0001,  0.0001,  0.0001],\n",
            "        [ 0.0026,  0.0026,  0.0026,  ...,  0.0026,  0.0026,  0.0026],\n",
            "        ...,\n",
            "        [ 0.0011,  0.0011,  0.0011,  ...,  0.0011,  0.0011,  0.0011],\n",
            "        [ 0.0005,  0.0005,  0.0005,  ...,  0.0005,  0.0005,  0.0005],\n",
            "        [-0.0008, -0.0008, -0.0008,  ..., -0.0008, -0.0008, -0.0008]])}, 1: {'momentum_buffer': tensor([-3.5123e-03, -3.0774e-04, -6.2156e-03,  3.8736e-03, -5.1608e-04,\n",
            "         3.5619e-03, -2.2606e-03,  5.1044e-04, -5.1991e-04, -1.2514e-03,\n",
            "        -3.4784e-04,  1.5793e-03,  1.7618e-03, -2.6711e-04, -2.0369e-03,\n",
            "        -1.3213e-03, -4.3378e-03, -3.6281e-03,  5.1811e-03, -3.3090e-03,\n",
            "        -2.5672e-03,  1.9122e-03,  2.2829e-03, -2.1562e-03,  1.7023e-03,\n",
            "        -4.0872e-03, -1.9306e-03,  2.5169e-04, -3.0882e-03,  4.6973e-03,\n",
            "        -6.0118e-03,  5.7327e-04, -1.4136e-03,  1.5072e-05, -2.0477e-03,\n",
            "         2.1792e-04, -8.1209e-03,  1.3027e-03, -1.8123e-03, -3.9940e-03,\n",
            "        -3.6934e-04,  5.2544e-04,  3.4505e-03,  3.2771e-03,  2.6217e-03,\n",
            "         1.1923e-06, -1.1668e-03, -1.4351e-03, -3.3170e-03, -8.5980e-04,\n",
            "        -1.9953e-03,  7.9255e-03,  1.9138e-04, -7.1815e-04,  5.9737e-03,\n",
            "         4.7255e-03, -1.6089e-03,  6.8437e-04,  4.5150e-03, -9.1876e-03,\n",
            "        -2.2663e-03, -8.9035e-04, -1.5063e-03,  1.6893e-03, -2.9504e-03,\n",
            "         1.5991e-03,  6.7851e-03,  2.4092e-03, -3.0870e-04,  7.0679e-03,\n",
            "        -3.9863e-03,  3.7145e-04, -6.0722e-04, -5.1326e-04,  4.4552e-04,\n",
            "         5.3762e-03,  2.3002e-03,  3.8640e-03,  2.2673e-03, -1.0757e-03,\n",
            "        -1.7921e-03, -4.7615e-03, -9.1397e-04, -9.8094e-04, -1.0952e-03,\n",
            "         1.3789e-03,  6.2154e-03,  3.8277e-03, -7.2610e-03, -2.9322e-04,\n",
            "        -1.2352e-04, -6.4797e-04, -2.3924e-03,  2.3206e-03,  4.5544e-04,\n",
            "         7.6018e-04,  1.4072e-03, -1.2816e-03, -6.1379e-03, -1.1702e-03,\n",
            "        -4.5719e-03, -1.3915e-04,  1.7754e-03,  5.1843e-04, -5.7465e-03,\n",
            "         5.9776e-04, -8.7597e-04, -4.2446e-04,  3.0994e-03, -2.0475e-03,\n",
            "        -1.1438e-03,  1.6433e-03,  2.6267e-03,  1.2726e-03,  1.7946e-03,\n",
            "        -3.6340e-03, -9.6500e-04, -1.0244e-03, -6.8653e-03, -6.6965e-03,\n",
            "         4.5717e-04, -1.2518e-03, -4.5151e-03, -1.3963e-03, -2.9502e-03,\n",
            "         8.3117e-04,  3.4759e-03, -2.7918e-03,  9.1258e-04, -3.2300e-03,\n",
            "         1.1342e-03,  2.9423e-03, -3.9617e-03,  4.1028e-03,  5.8840e-03,\n",
            "        -2.1816e-03, -1.3531e-03, -3.6863e-03, -2.9768e-03,  8.2275e-04,\n",
            "        -6.0122e-03,  1.1552e-05, -1.8709e-03,  2.1754e-03, -3.6015e-03,\n",
            "         1.0228e-03,  3.1912e-03,  7.7991e-03,  4.2024e-03,  1.1522e-02,\n",
            "         1.0101e-03, -6.1285e-04, -2.7989e-03, -9.0315e-03, -3.1989e-03,\n",
            "        -3.3444e-04, -1.5226e-03,  2.5542e-03, -2.3103e-03, -5.2205e-04,\n",
            "        -2.1126e-03,  5.2003e-03,  2.2054e-03,  7.2783e-04, -3.7978e-03,\n",
            "         7.2408e-03,  4.0960e-03, -1.1369e-03,  2.1076e-03, -3.9496e-03,\n",
            "         1.9762e-03,  2.3702e-03, -2.1909e-03,  3.3678e-03,  6.3894e-03,\n",
            "         1.7040e-05,  2.5075e-03,  1.0519e-03,  2.4629e-03, -3.8432e-03,\n",
            "        -2.8777e-03,  2.6222e-03, -3.1817e-03,  6.3414e-03,  9.0530e-04,\n",
            "        -4.1350e-03, -5.3848e-04,  2.5086e-03,  1.2579e-03, -1.2416e-02,\n",
            "        -2.8637e-03,  1.0047e-03, -1.3616e-03,  2.4350e-03,  3.4594e-03,\n",
            "        -1.2626e-03,  1.0515e-03, -2.5330e-03, -1.0676e-03,  1.8902e-03])}, 2: {'momentum_buffer': tensor([[-8.5984e-03, -3.9915e-05, -8.0558e-03,  ..., -3.6909e-03,\n",
            "         -4.5818e-03, -6.4749e-04],\n",
            "        [ 5.1332e-03,  4.0389e-05,  2.2128e-03,  ...,  1.5021e-03,\n",
            "         -3.0107e-03, -1.5173e-03],\n",
            "        [-1.4761e-03,  1.2704e-05, -1.6309e-03,  ..., -1.5142e-04,\n",
            "         -8.1409e-03, -2.2218e-03],\n",
            "        ...,\n",
            "        [-1.6533e-03,  6.7272e-05, -3.9231e-03,  ..., -2.4442e-03,\n",
            "          2.5804e-03, -3.6339e-04],\n",
            "        [-4.9484e-03, -9.0192e-05, -8.8145e-03,  ..., -3.1191e-03,\n",
            "          5.8460e-03,  6.1475e-04],\n",
            "        [ 3.2334e-03, -1.2570e-04,  5.4734e-03,  ...,  1.3964e-03,\n",
            "         -1.2044e-03,  9.4818e-05]])}, 3: {'momentum_buffer': tensor([-7.3192e-03,  2.2609e-03, -1.9861e-03, -9.7028e-04, -1.4564e-04,\n",
            "        -1.1252e-03, -1.5713e-04, -1.1444e-03, -6.0158e-03, -4.5635e-03,\n",
            "        -3.2394e-03,  8.1053e-05,  4.0648e-05,  5.4745e-03,  1.8732e-03,\n",
            "        -1.1193e-03, -3.7884e-04,  1.7223e-03, -3.5827e-03, -1.0400e-03,\n",
            "         3.2003e-05, -1.2996e-03, -4.1404e-03,  1.2409e-04, -4.7323e-04,\n",
            "        -1.9066e-03,  4.8699e-03,  9.6534e-06, -4.9263e-03, -1.1909e-03,\n",
            "        -2.9772e-03,  4.3630e-04,  1.1494e-03,  4.6990e-03, -1.8689e-04,\n",
            "         2.8273e-03, -6.1035e-06, -3.4202e-03,  2.7750e-04,  1.4948e-03,\n",
            "         6.3946e-04,  3.5861e-04,  9.2037e-03, -2.1247e-03, -5.0131e-03,\n",
            "        -2.7502e-04,  2.9477e-03,  3.8696e-04, -1.8629e-04,  4.3883e-05,\n",
            "         2.8222e-04,  1.2264e-03, -2.0078e-03, -1.0029e-03, -1.7713e-03,\n",
            "        -1.1615e-03, -2.9324e-04,  1.7032e-03,  1.7258e-03, -4.4826e-03,\n",
            "        -5.3854e-04,  3.7537e-03, -2.0959e-03,  6.9101e-08,  9.9682e-04,\n",
            "         1.5967e-03, -8.7998e-03, -1.0015e-03, -7.2557e-04,  2.0879e-04,\n",
            "         5.4180e-04, -1.4938e-03,  9.4314e-04, -2.7026e-03, -1.1910e-04,\n",
            "         3.7038e-03, -1.0017e-03,  3.9216e-05, -1.2805e-03, -3.2799e-04,\n",
            "         1.9107e-03,  1.0622e-03,  1.7027e-03, -1.0605e-04, -1.7093e-04,\n",
            "        -3.1525e-03,  1.2769e-03, -1.9056e-04,  5.5549e-04,  1.3460e-03,\n",
            "        -5.4678e-03, -1.5372e-03,  1.7940e-03,  1.7632e-03,  3.1801e-04,\n",
            "        -5.6192e-04, -2.9583e-03,  5.4928e-03,  3.0013e-03,  4.5540e-04,\n",
            "        -3.3958e-03,  6.7360e-03, -7.0536e-05, -4.5134e-04,  9.0816e-03,\n",
            "        -1.0994e-03,  3.2266e-03,  6.3463e-04, -3.2660e-03, -2.0278e-03,\n",
            "        -3.4100e-03, -2.5939e-03, -3.7803e-03,  2.5352e-04,  6.4713e-03,\n",
            "         2.0659e-03,  5.9067e-04, -1.1980e-04,  2.4599e-03, -3.9455e-03,\n",
            "         3.9539e-03, -1.0843e-03,  3.7971e-03, -7.3745e-04,  6.1079e-03,\n",
            "         1.9120e-03,  2.9413e-03,  4.1825e-04,  2.3720e-03,  1.7584e-03,\n",
            "         9.1626e-04, -3.2491e-04, -4.6872e-03, -1.0569e-03, -3.6326e-03,\n",
            "         9.0539e-04,  6.3834e-03,  6.1279e-06,  5.6738e-04, -1.7227e-03,\n",
            "        -1.7470e-03, -1.2405e-03,  3.6135e-03,  8.6771e-04,  1.4238e-04,\n",
            "        -3.1015e-04,  2.9407e-03,  3.2089e-04,  7.1832e-04,  9.1506e-05,\n",
            "        -1.9028e-03,  2.4785e-03, -1.9615e-03, -3.8403e-03, -2.5071e-03,\n",
            "         2.8156e-03, -1.0421e-03,  7.0249e-04,  3.4976e-03, -1.3337e-03,\n",
            "         4.9153e-03, -1.5038e-04, -3.9560e-03,  4.5331e-04,  8.8671e-04,\n",
            "        -2.9371e-04, -1.5828e-03, -5.4203e-03, -2.7857e-03,  5.2515e-03,\n",
            "        -4.9746e-04,  1.0094e-04,  2.5299e-04,  1.7996e-03,  4.5588e-04,\n",
            "         6.4559e-03, -1.4153e-03, -7.7404e-04, -3.0606e-03, -2.4278e-03,\n",
            "         4.5045e-04,  1.0657e-03, -4.5159e-04,  9.5629e-04, -4.7064e-03,\n",
            "         9.1450e-04,  1.9079e-03, -3.0000e-04, -1.6242e-03, -6.4145e-03,\n",
            "        -8.1677e-04, -2.4001e-03,  8.6659e-03, -3.4232e-03, -8.3084e-04,\n",
            "        -1.8604e-03, -1.8080e-03, -1.1172e-03, -4.5659e-03,  6.7512e-04])}, 4: {'momentum_buffer': tensor([[-0.0142, -0.0044, -0.0136,  ...,  0.0024, -0.0133, -0.0095],\n",
            "        [ 0.0023,  0.0088,  0.0062,  ...,  0.0023,  0.0046,  0.0076],\n",
            "        [-0.0092, -0.0105, -0.0120,  ..., -0.0124, -0.0219, -0.0088],\n",
            "        ...,\n",
            "        [-0.0095,  0.0011, -0.0002,  ..., -0.0065, -0.0067, -0.0251],\n",
            "        [ 0.0015, -0.0216, -0.0129,  ..., -0.0045, -0.0145, -0.0074],\n",
            "        [ 0.0258,  0.0032,  0.0157,  ...,  0.0050,  0.0240,  0.0314]])}, 5: {'momentum_buffer': tensor([-0.0080,  0.0052, -0.0059,  0.0129,  0.0018, -0.0043, -0.0041, -0.0062,\n",
            "        -0.0054,  0.0139])}}\n",
            "param_groups [{'lr': 0.01, 'momentum': 0.9, 'dampening': 0, 'weight_decay': 0, 'nesterov': False, 'maximize': False, 'foreach': None, 'differentiable': False, 'params': [0, 1, 2, 3, 4, 5]}]\n"
          ]
        }
      ]
    },
    {
      "cell_type": "code",
      "source": [
        "torch.save(net.state_dict(), '../mnist_demo.pt')"
      ],
      "metadata": {
        "id": "P_9rRJbJ-WNs"
      },
      "execution_count": 16,
      "outputs": []
    },
    {
      "cell_type": "code",
      "source": [
        "# check\n",
        "!ls -l ../mnist_demo.pt"
      ],
      "metadata": {
        "colab": {
          "base_uri": "https://localhost:8080/"
        },
        "id": "NxeEBPZ2-ySi",
        "outputId": "d205d95c-b30e-4664-d2d1-d6247ab7ffdc"
      },
      "execution_count": 18,
      "outputs": [
        {
          "output_type": "stream",
          "name": "stdout",
          "text": [
            "-rw-r--r-- 1 root root 798895 Oct 11 13:43 ../mnist_demo.pt\n"
          ]
        }
      ]
    },
    {
      "cell_type": "code",
      "source": [
        "# Load saved model\n",
        "\n",
        "model = Net()\n",
        "model.load_state_dict(torch.load('../mnist_demo.pt'))\n",
        "model.eval()"
      ],
      "metadata": {
        "colab": {
          "base_uri": "https://localhost:8080/"
        },
        "id": "02swa6QL-r3Y",
        "outputId": "8d85c08a-706f-4ba2-e5e0-7c25cd920260"
      },
      "execution_count": 19,
      "outputs": [
        {
          "output_type": "execute_result",
          "data": {
            "text/plain": [
              "Net(\n",
              "  (fc1): Linear(in_features=784, out_features=200, bias=True)\n",
              "  (fc2): Linear(in_features=200, out_features=200, bias=True)\n",
              "  (fc3): Linear(in_features=200, out_features=10, bias=True)\n",
              ")"
            ]
          },
          "metadata": {},
          "execution_count": 19
        }
      ]
    },
    {
      "cell_type": "code",
      "source": [
        "# Testing\n",
        "\n",
        "test_loss = 0.0\n",
        "correct = 0.0\n",
        "\n",
        "for data, target in test_loader:\n",
        "    data = data.view(-1, 28*28)\n",
        "\n",
        "    net_out = model(data)\n",
        "    l = criterion(net_out, target)\n",
        "    test_loss += l.data\n",
        "\n",
        "    pred = net_out.data.max(1)[1] # get the index of maximum log- probability\n",
        "\n",
        "    correct += pred.eq(target.data).sum()\n",
        "\n",
        "test_loss /= len(test_loader.dataset)\n",
        "\n",
        "print(f'Test: Average loss: {test_loss} | Accuracy: {correct / len(test_loader.dataset)}')\n"
      ],
      "metadata": {
        "colab": {
          "base_uri": "https://localhost:8080/"
        },
        "id": "hOIwK354_Ruc",
        "outputId": "fc55dac0-1e5b-45c2-980c-90e60090c0cd"
      },
      "execution_count": 20,
      "outputs": [
        {
          "output_type": "stream",
          "name": "stdout",
          "text": [
            "Test: Average loss: 0.00035307055804878473 | Accuracy: 0.9778000116348267\n"
          ]
        }
      ]
    }
  ]
}